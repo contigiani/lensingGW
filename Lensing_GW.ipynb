{
 "cells": [
  {
   "cell_type": "code",
   "execution_count": 34,
   "metadata": {},
   "outputs": [],
   "source": [
    "from matplotlib import pyplot as plt\n",
    "import numpy as np\n",
    "import camb\n",
    "from camb import model \n",
    "from astropy.cosmology import FlatLambdaCDM\n",
    "from astropy import units as u\n",
    "from astropy import constants as const\n",
    "from scipy.integrate import cumtrapz\n",
    "from matplotlib.ticker import MultipleLocator"
   ]
  },
  {
   "cell_type": "markdown",
   "metadata": {},
   "source": [
    "Set-up\n",
    "====\n",
    "\n",
    "In order to compute the pdf of the convergence $\\kappa$ (and magnification $\\mu$), a cosmology should be assumed. Below [CAMB](https://github.com/cmbant/CAMB) is used to calulate this pdf for various redshifts."
   ]
  },
  {
   "cell_type": "code",
   "execution_count": 48,
   "metadata": {},
   "outputs": [],
   "source": [
    "# Cosmology \n",
    "\n",
    "h = 0.7\n",
    "Oc = 0.27\n",
    "Ob = 0.03\n",
    "Om = Ob+Oc\n",
    "cosmo = FlatLambdaCDM(H0=h*100, Om0=Oc+Ob)\n",
    "H0 = h*100*u.km/u.s/u.Mpc\n",
    "\n",
    "betagw = 2.3\n",
    "\n",
    "\n",
    "# Other parameters for numerical calculations\n",
    "N_zs = 20\n",
    "filetau = np.loadtxt(\"plot\", delimiter=\",\") # filetau is the lensing depth tau(mu>10) as a function of z\n",
    "\n",
    "#Numerical grids\n",
    "zs = np.geomspace(1e-2, 10, N_zs)\n",
    "zp = np.linspace(0, 10., N_zs)\n",
    "mu = np.geomspace(1e-1,1e5, 300)\n",
    "mu[mu==mu[mu>1][0]] = 1 # make sure there is a point exactly at 1\n",
    "\n"
   ]
  },
  {
   "cell_type": "code",
   "execution_count": null,
   "metadata": {},
   "outputs": [],
   "source": [
    "print(\"Running CAMB\")\n",
    "\n",
    "zp = np.linspace(0, 10., N_zs)\n",
    "\n",
    "pars = camb.CAMBparams()\n",
    "pars.set_cosmology(H0=h*100, ombh2=Ob*h**2., omch2=Oc*h**2., omk=0)\n",
    "pars.InitPower.set_params(As=2e-9, ns=0.965)\n",
    "pars.InitPower.set_params(ns=0.965)\n",
    "\n",
    "pars.NonLinear = model.NonLinear_both\n",
    "pars.set_matter_power(redshifts=zp, kmax=3e3)\n",
    "results = camb.get_results(pars)\n",
    "results.calc_power_spectra(pars)\n",
    "kh_nonlin, z_nonlin, pk_nonlin = results.get_matter_power_spectrum(minkh=1e-4, maxkh=3e3, npoints = 50)    \n",
    "\n",
    "IP = np.trapz(pk_nonlin * h**3. * (kh_nonlin * h)**2. , np.log(kh_nonlin * h))/2./np.pi\n",
    "\n",
    "print(\"Power spectrum integrals\")\n",
    "\n",
    "\n",
    "\n",
    "Ichi2 = np.zeros(len(zs)) * u.Mpc**3.\n",
    "Ichi = np.zeros(len(zs)) * u.Mpc**2.\n",
    "for i, z in enumerate(zs):\n",
    "    za = np.linspace(0., z, 100000)\n",
    "    chi = cosmo.comoving_distance(za)\n",
    "    chis = cosmo.comoving_distance(z)\n",
    "    Ichi2[i] = np.trapz((chi*(1.-chi/chis)*(1.+za))**2. * np.interp(za, zp[::-1], IP[::-1]), chi)\n",
    "    Ichi[i] = np.trapz((chi*(1.-chi/chis)*(1.+za)), chi)\n",
    "\n",
    "\n",
    "Var_kappa = ((3./2. * H0**2. * Om )**2. * Ichi2 * u.Mpc / const.c**4.).to(1)\n",
    "Min_kappa = (-3* H0**2. *Om / 2. * Ichi / const.c**2.).to(1)\n",
    "\n",
    "plt.figure(figsize=(10, 10))\n",
    "plt.plot(zs, Var_kappa, label='variance kappa')\n",
    "plt.legend()\n",
    "plt.show()"
   ]
  },
  {
   "cell_type": "markdown",
   "metadata": {},
   "source": [
    "Lensing pdf\n",
    "==="
   ]
  },
  {
   "cell_type": "code",
   "execution_count": null,
   "metadata": {},
   "outputs": [],
   "source": [
    "z_array = np.linspace(0, 100, 100000)\n",
    "dl_array = cosmo.luminosity_distance(z_array)\n",
    "\n",
    "\n",
    "def dl(z):\n",
    "    return cosmo.luminosity_distance(z)\n",
    "\n",
    "def dl_p(z):\n",
    "    return dl(z)/(1.+z) + (1.+z)/E(z) * const.c / cosmo.H0\n",
    "\n",
    "def E(z):\n",
    "    return np.sqrt(0.3*(1.+z)**3. + 0.7)\n",
    "\n",
    "def z_p(z, mu):\n",
    "    return z_array[np.abs(dl(z) * np.sqrt(mu)-dl_array).argmin()]\n",
    "\n",
    "def Pmu(mu, z, tail=True):\n",
    "    kappa = 1. - 1./np.sqrt(mu)\n",
    "    Vkappa = np.interp(z, zs, Var_kappa)\n",
    "    Mkappa = np.abs(np.interp(z, zs, Min_kappa))\n",
    "    sigma2 = np.log(1.+Vkappa/Mkappa**2.)\n",
    "    argexp = - (np.log(1.+kappa/Mkappa)+sigma2/2.)**2. /2. /sigma2\n",
    "    if tail:\n",
    "        taumu = np.interp(z, filetau[:,0], filetau[:, 1])\n",
    "        tail = taumu / mu**(3.) / 0.005\n",
    "        if(np.array(z).size==1):\n",
    "            tail[mu<1] = taumu / 3.**(3.) / 0.005\n",
    "        else:\n",
    "            tail[mu<1] = taumu[mu<1] / 3.**(3.) / 0.005\n",
    "        result = (1.-kappa)**3. / 2. *\\\n",
    "            1./np.sqrt(2*np.pi*sigma2) * np.exp(argexp) * \\\n",
    "            1./(kappa+Mkappa) * np.exp(-(mu/3.)**4.)\n",
    "        result[~np.isfinite(result)] = 0\n",
    "        return result + tail\n",
    "    else:\n",
    "        return (1.-kappa)**3. / 2. *\\\n",
    "            1./np.sqrt(2*np.pi*sigma2) * np.exp(argexp) * \\\n",
    "            1./(kappa+Mkappa) * np.exp(-(mu/3)**4.)\n",
    "\n",
    "def Pkappa(kappa, z):\n",
    "    Vkappa = np.interp(z, zs, Var_kappa)\n",
    "    Mkappa = np.abs(np.interp(z, zs, Min_kappa))\n",
    "    sigma2 = np.log(1.+Vkappa/Mkappa**2.)\n",
    "    argexp = - (np.log(1.+kappa/Mkappa)+sigma2/2.)**2. /2. /sigma2\n",
    "    return 1./np.sqrt(2*np.pi*sigma2) * np.exp(argexp) * 1./(kappa+Mkappa)\n",
    "\n",
    "\n",
    "plt.figure(figsize=(3, 3))\n",
    "kappa = np.linspace(-0.6, 2., 1000)\n",
    "colors = ['brown', 'k', 'b', 'orange', 'purple', 'green']\n",
    "for i, z in enumerate([0.1, 1., 2., 3., 5, 10]):\n",
    "    plt.loglog(1.+kappa, (1.+kappa)*Pkappa(kappa, z), label=str(z), color=colors[i])\n",
    "plt.gca().set_xlim([0.35, 4.])\n",
    "plt.gca().set_ylim([1e-5, 1e2])\n",
    "plt.gca().set_xlabel('1+kappa')\n",
    "plt.gca().set_ylabel('dP/dlog(1+kappa)')\n",
    "plt.legend()\n",
    "plt.show()\n",
    "\n",
    "\n",
    "\n",
    "plt.figure(figsize=(4, 3))\n",
    "colors = ['b', 'g', 'k', 'r']\n",
    "\n",
    "for i, z in enumerate([1, 3, 6, 10]):\n",
    "    plt.loglog(mu, mu*(Pmu(mu, z, tail=True)) , label='$z = '+str(z)+'$', color=colors[i])\n",
    "    plt.loglog(mu, mu*(Pmu(mu, z, tail=False)) , color=colors[i], ls='--')\n",
    "plt.gca().set_xlim([1e-1, 1e3])\n",
    "plt.gca().set_ylim([1e-7, 2e1])\n",
    "plt.gca().set_xlabel('magnification $\\mu$')\n",
    "plt.gca().set_ylabel('$\\mu P(\\mu, z)$')\n",
    "plt.legend(frameon=False)\n",
    "plt.tight_layout()\n",
    "plt.show()"
   ]
  },
  {
   "cell_type": "markdown",
   "metadata": {},
   "source": [
    "Figures\n",
    "======\n",
    "\n",
    "The snippets below calculate the plots shown in the paper. These can be seen as examples of how to use $P(\\mu, z)$ and they can be run separately to experiment with the various elements. The array **KGW** as a function of **M_p_a** contains the weights mentioned in the original paper as a function of intrinsic mass. Because the variable **M_p_a** really refers to the ratio between intrisic and observed masses, implementing power-law mass functions is particularly easy, just multiply KGW by the appropriate power of **M_p_a**.\n",
    "\n",
    "The last snippet involves an integral of these weights multiplied by a power-law mass function. "
   ]
  },
  {
   "cell_type": "code",
   "execution_count": 43,
   "metadata": {},
   "outputs": [
    {
     "data": {
      "image/png": "[encoded data removed]",
      "text/plain": [
       "<Figure size 288x216 with 1 Axes>"
      ]
     },
     "metadata": {
      "needs_background": "light"
     },
     "output_type": "display_data"
    }
   ],
   "source": [
    "# Lensing weights for GW transients, chirp-mass\n",
    "\n",
    "colors = ['purple', 'orange', 'k']\n",
    "plt.figure(figsize=(4, 3))\n",
    "for i, z in enumerate([0.15, 1., 5.]):\n",
    "    z_p_a = np.array([z_p(z, mui) for mui in mu])\n",
    "    M_p_a = (1+z)/(1+z_p_a)\n",
    "    \n",
    "    PmuGW = Pmu(mu, z_p_a, tail=True)\n",
    "    \n",
    "    # Only tail of magnification function \n",
    "    taumu = np.interp(z_p_a, filetau[:,0], filetau[:, 1])\n",
    "    PmuGW2 = taumu / mu**(3.) / 0.005    \n",
    "    \n",
    "    J = dl_p(z)/dl_p(z_p_a) * np.sqrt(mu) * (1+z)/(1+z_p_a)\n",
    "    V = E(z)/E(z_p_a) * mu * ((1+z_p_a)/(1+z))**(-2.)\n",
    "    Evo = ((1+z_p_a)/(1+z))**(betagw)\n",
    "    Grad = np.gradient(mu, M_p_a)\n",
    "    R = (1+z)/(1+z_p_a)\n",
    "    \n",
    "    if(z<=2):\n",
    "        Evo[z_p_a>2.] = Evo[z_p_a>2.] * ((1+z_p_a[z_p_a>2.])/(1+2.))**(-2*betagw)\n",
    "    else:\n",
    "        Evo[z_p_a>2.] = ((1+z_p_a[z_p_a>2.])/(1.+z))**(-betagw)\n",
    "    Evo[z_p_a>10] = np.nan\n",
    "    \n",
    "    KGW = J*V*R*PmuGW * np.abs(Grad)*Evo\n",
    "    KGW2 = J*V*R*PmuGW2 * np.abs(Grad)*Evo\n",
    "    \n",
    "    KGW = KGW/np.nanmax(KGW)\n",
    "    plt.semilogy(M_p_a, KGW, label=str(z), color=colors[i])\n",
    "    plt.semilogy(M_p_a[mu>3], KGW[mu>3], color=colors[i], lw=5, alpha=0.5)\n",
    "    \n",
    "\n",
    "plt.gca().set_xlabel(r'$\\mathcal{M}_\\ast/\\mathcal{M}$')\n",
    "plt.gca().set_ylim([1e-8, 2])\n",
    "plt.gca().set_xlim([0.25, 1.5])\n",
    "plt.legend(frameon=False, title='z')\n",
    "plt.gca().set_title('GW')\n",
    "plt.tight_layout()\n",
    "plt.show()"
   ]
  },
  {
   "cell_type": "code",
   "execution_count": 44,
   "metadata": {},
   "outputs": [
    {
     "data": {
      "image/png": "[encoded data removed]",
      "text/plain": [
       "<Figure size 288x216 with 1 Axes>"
      ]
     },
     "metadata": {
      "needs_background": "light"
     },
     "output_type": "display_data"
    }
   ],
   "source": [
    "# Lensing weights for persistent EM sources, luminosity\n",
    "colors = ['purple', 'orange', 'k']\n",
    "plt.figure(figsize=(4, 3))\n",
    "for i, z in enumerate([0.15, 1., 5.]):\n",
    "    z_p_a = np.array([z_p(z, mui) for mui in mu])\n",
    "    L_p_a = 1/mu\n",
    "    \n",
    "    JL = 1/mu\n",
    "    PmuL = Pmu(mu, z)\n",
    "    \n",
    "    KL = PmuL * np.log(10.)\n",
    "    \n",
    "    KL = KL/KL[mu==1]\n",
    "    plt.plot(np.log10(L_p_a), KL, label=str(z), color=colors[i])\n",
    "    plt.plot(np.log10(L_p_a[mu>3]), KL[mu>3], color=colors[i], lw=5, alpha=0.5)\n",
    "    \n",
    "    if(z>=5):\n",
    "        plt.semilogy(np.log10(L_p_a),  (1./mu)**(-1) * np.exp(-10*(1./mu - 1.)) * KL, color=colors[i], ls='--') \n",
    "        plt.plot(np.log10(L_p_a[mu>3]),  (1./mu[mu>3])**(-1) *np.exp(-10*(1./mu[mu>3] - 1.)) * KL[mu>3], color=colors[i], lw=5, alpha=0.5)\n",
    "\n",
    "plt.gca().set_xlabel(r'$\\log_{10}\\mathcal{L}_\\ast/\\mathcal{L}$')\n",
    "plt.gca().set_ylabel(r'Weight')\n",
    "plt.gca().set_xlim([-2, 1])\n",
    "plt.gca().set_ylim([1e-8, 2])\n",
    "plt.gca().set_title('EM - Quasars')\n",
    "plt.tight_layout()\n",
    "plt.show()"
   ]
  },
  {
   "cell_type": "code",
   "execution_count": 49,
   "metadata": {},
   "outputs": [
    {
     "data": {
      "image/png": "[encoded data removed]",
      "text/plain": [
       "<Figure size 288x216 with 1 Axes>"
      ]
     },
     "metadata": {
      "needs_background": "light"
     },
     "output_type": "display_data"
    }
   ],
   "source": [
    "# Lensing weights for transient GW and EM sources, luminosity distance \n",
    "\n",
    "plt.figure(figsize=(4, 3))\n",
    "colors = ['purple', 'orange', 'k']\n",
    "for i, z in enumerate([0.15, 1, 5]):\n",
    "    z_p_a = np.array([z_p(z, mui) for mui in mu])\n",
    "    dlr = dl(z_p_a)/dl(z)\n",
    "    M_p_a = (1+z)/(1+z_p_a)\n",
    "    \n",
    "    PmuGW = Pmu(mu, z_p_a)\n",
    "    taumu = np.interp(z_p_a, filetau[:,0], filetau[:, 1])\n",
    "    PmuGW2 = taumu / mu**(3.) / 0.005\n",
    "        \n",
    "    J = dl_p(z)/dl_p(z_p_a) * np.sqrt(mu) * (1+z)/(1+z_p_a)\n",
    "    JSN = dl_p(z)/dl_p(z_p_a) * np.sqrt(mu)\n",
    "    V = E(z)/E(z_p_a) * mu * ((1+z_p_a)/(1+z))**(-2.)\n",
    "    Evo = ((1+z_p_a)/(1+z))**(betagw)\n",
    "    Grad = np.gradient(mu, dlr)\n",
    "    R = (1+z)/(1+z_p_a)\n",
    "    Evo[z_p_a>2.] = Evo[z_p_a>2.] * ((1+z_p_a[z_p_a>2.])/(1+2.))**(-2*betagw)\n",
    "    Evo[z_p_a>10] = np.nan\n",
    "    \n",
    "    \n",
    "    KSN = JSN*V*Evo*R*PmuGW*np.abs(Grad)\n",
    "    KGW = J*V*R*PmuGW * np.abs(Grad)*Evo\n",
    "    \n",
    "    \n",
    "    norm = np.trapz((KGW)[np.isfinite(KGW)], dlr[np.isfinite(KGW)])\n",
    "    avg =  np.trapz((KGW*dlr)[np.isfinite(KGW)], dlr[np.isfinite(KGW)]) / norm\n",
    "    std = np.trapz((KGW*(dlr-avg)**2.)[np.isfinite(KGW)], dlr[np.isfinite(KGW)]) /norm\n",
    "    skew = np.trapz((KGW*(dlr-avg)**3.)[np.isfinite(KGW)], dlr[np.isfinite(KGW)]) /norm\n",
    "    #print(\"average:\", avg)\n",
    "    #print(\"Std:\", np.sqrt(std))\n",
    "    #print(\"skewness:\", skew)\n",
    "    \n",
    "\n",
    "    KSN = KSN/KSN[mu==1]\n",
    "    KGW = KGW/KGW[mu==1]\n",
    "    plt.semilogy(dlr, KSN, color=colors[i], ls='--')\n",
    "    plt.plot(dlr, KGW, label=\"$z=\"+str(z)+\"$\", color=colors[i])\n",
    "    plt.plot(dlr[mu>3], KGW[mu>3], color=colors[i], lw=5, alpha=0.5)\n",
    "\n",
    "plt.title(\"SN and GW\")\n",
    "plt.gca().set_xlabel(r'$D_\\ast/D$')\n",
    "plt.gca().set_ylabel(r'Weight')\n",
    "plt.gca().set_ylim([1e-6, 20])\n",
    "plt.gca().set_xlim([0.5, 2])\n",
    "plt.legend(frameon=False)\n",
    "plt.tight_layout()\n",
    "plt.show()"
   ]
  },
  {
   "cell_type": "code",
   "execution_count": 53,
   "metadata": {},
   "outputs": [
    {
     "data": {
      "image/png": "[encoded data removed]",
      "text/plain": [
       "<Figure size 288x216 with 1 Axes>"
      ]
     },
     "metadata": {
      "needs_background": "light"
     },
     "output_type": "display_data"
    }
   ],
   "source": [
    "# Lensing tail\n",
    "\n",
    "colors = ['purple', 'orange', 'k']\n",
    "plt.figure(figsize=(4, 3))\n",
    "plot_lines = [None, None, None]\n",
    "for i, z in enumerate([0.15, 1, 5.]):\n",
    "    z_p_a = np.array([z_p(z, mui) for mui in mu])\n",
    "    M_p_a = (1+z)/(1+z_p_a)\n",
    "    \n",
    "    PmuGW = Pmu(mu, z_p_a, tail=True)\n",
    "    \n",
    "    J = dl_p(z)/dl_p(z_p_a) * np.sqrt(mu) * (1+z)/(1+z_p_a)\n",
    "    V = E(z)/E(z_p_a) * mu * ((1+z_p_a)/(1+z))**(-2.)\n",
    "    Evo = ((1+z_p_a)/(1+z))**(betagw)\n",
    "    Grad = np.gradient(mu, M_p_a)\n",
    "    R = (1+z)/(1+z_p_a)\n",
    "    \n",
    "    if(z<=2):\n",
    "        Evo[z_p_a>2.] = Evo[z_p_a>2.] * ((1+z_p_a[z_p_a>2.])/(1+2.))**(-2*betagw)\n",
    "    else:\n",
    "        Evo[z_p_a>2.] = ((1+z_p_a[z_p_a>2.])/(1.+z))**(-betagw)\n",
    "    Evo[z_p_a>10] = np.nan\n",
    "    \n",
    "    KGW = J*V*R*PmuGW*np.abs(Grad)*Evo\n",
    "\n",
    "    for n in [0, 5, 10]:\n",
    "        y = KGW[::-1] * (M_p_a[::-1]**(-n))\n",
    "        x = M_p_a[::-1]\n",
    "        mm = mu[::-1]\n",
    "        zz = z_p_a[::-1]\n",
    "        idx = np.isfinite(y)\n",
    "        x = x[idx]\n",
    "        y = y[idx]\n",
    "        mm = mm[idx][1:]\n",
    "        zz = zz[idx]\n",
    "        if(n==0.):\n",
    "            l, = plt.semilogy(1./x[1:], cumtrapz(y, x)/x[1:]**(-n), color=colors[i], label=z)\n",
    "            plot_lines[0] = l \n",
    "        if(n==5):\n",
    "            l, = plt.semilogy(1./x[1:], cumtrapz(y, x)/x[1:]**(-n), color=colors[i], ls='--', alpha=0.5)\n",
    "            plot_lines[1] = l \n",
    "        if(n==10):\n",
    "            l, = plt.semilogy(1./x[1:], cumtrapz(y, x)/x[1:]**(-n), color=colors[i], ls=':', alpha=0.5)\n",
    "            plot_lines[2] = l \n",
    "    \n",
    "plt.gca().set_xlabel(r'$\\mathcal{M}/\\mathcal{M}_{\\mathrm{co}}$')\n",
    "plt.gca().set_ylabel(r'$\\frac{r(\\mathcal{M})}{R(\\mathcal{M}_{\\mathrm{co}})}$', fontsize=16)\n",
    "plt.gca().set_ylim([1e-6, 10.])\n",
    "plt.gca().set_xlim([1.25, 5])\n",
    "plt.gca().xaxis.set_minor_locator(MultipleLocator(0.25))\n",
    "\n",
    "legend1 = plt.legend(frameon=False, title='z', loc=4)\n",
    "plt.legend([l for l in plot_lines], [0, 5, 10], title=\"n\", frameon=False, loc=1)\n",
    "plt.gca().add_artist(legend1)\n",
    "\n",
    "plt.tight_layout()\n",
    "plt.show()"
   ]
  },
  {
   "cell_type": "code",
   "execution_count": null,
   "metadata": {},
   "outputs": [],
   "source": []
  },
  {
   "cell_type": "code",
   "execution_count": null,
   "metadata": {},
   "outputs": [],
   "source": []
  }
 ],
 "metadata": {
  "kernelspec": {
   "display_name": "Python 3",
   "language": "python",
   "name": "python3"
  },
  "language_info": {
   "codemirror_mode": {
    "name": "ipython",
    "version": 3
   },
   "file_extension": ".py",
   "mimetype": "text/x-python",
   "name": "python",
   "nbconvert_exporter": "python",
   "pygments_lexer": "ipython3",
   "version": "3.7.5"
  }
 },
 "nbformat": 4,
 "nbformat_minor": 2
}
